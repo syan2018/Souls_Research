{
 "cells": [
  {
   "cell_type": "markdown",
   "metadata": {},
   "source": [
    "用于通过输入的图数据快速计算Cheeger数与稳定因子"
   ]
  },
  {
   "cell_type": "code",
   "execution_count": 1,
   "metadata": {},
   "outputs": [],
   "source": [
    "# 输入图表格名称\n",
    "\n",
    "sheet_name = 'gq_test'"
   ]
  },
  {
   "cell_type": "code",
   "execution_count": 2,
   "metadata": {},
   "outputs": [
    {
     "data": {
      "text/html": [
       "<div>\n",
       "<style scoped>\n",
       "    .dataframe tbody tr th:only-of-type {\n",
       "        vertical-align: middle;\n",
       "    }\n",
       "\n",
       "    .dataframe tbody tr th {\n",
       "        vertical-align: top;\n",
       "    }\n",
       "\n",
       "    .dataframe thead th {\n",
       "        text-align: right;\n",
       "    }\n",
       "</style>\n",
       "<table border=\"1\" class=\"dataframe\">\n",
       "  <thead>\n",
       "    <tr style=\"text-align: right;\">\n",
       "      <th></th>\n",
       "      <th>1</th>\n",
       "      <th>2</th>\n",
       "      <th>3</th>\n",
       "      <th>4</th>\n",
       "      <th>5</th>\n",
       "      <th>6</th>\n",
       "      <th>7</th>\n",
       "    </tr>\n",
       "  </thead>\n",
       "  <tbody>\n",
       "    <tr>\n",
       "      <th>1</th>\n",
       "      <td>0</td>\n",
       "      <td>0</td>\n",
       "      <td>1</td>\n",
       "      <td>1</td>\n",
       "      <td>0</td>\n",
       "      <td>0</td>\n",
       "      <td>0</td>\n",
       "    </tr>\n",
       "    <tr>\n",
       "      <th>2</th>\n",
       "      <td>0</td>\n",
       "      <td>0</td>\n",
       "      <td>1</td>\n",
       "      <td>0</td>\n",
       "      <td>0</td>\n",
       "      <td>1</td>\n",
       "      <td>0</td>\n",
       "    </tr>\n",
       "    <tr>\n",
       "      <th>3</th>\n",
       "      <td>1</td>\n",
       "      <td>1</td>\n",
       "      <td>0</td>\n",
       "      <td>1</td>\n",
       "      <td>0</td>\n",
       "      <td>1</td>\n",
       "      <td>0</td>\n",
       "    </tr>\n",
       "    <tr>\n",
       "      <th>4</th>\n",
       "      <td>1</td>\n",
       "      <td>0</td>\n",
       "      <td>1</td>\n",
       "      <td>0</td>\n",
       "      <td>1</td>\n",
       "      <td>0</td>\n",
       "      <td>1</td>\n",
       "    </tr>\n",
       "    <tr>\n",
       "      <th>5</th>\n",
       "      <td>0</td>\n",
       "      <td>0</td>\n",
       "      <td>0</td>\n",
       "      <td>1</td>\n",
       "      <td>0</td>\n",
       "      <td>0</td>\n",
       "      <td>1</td>\n",
       "    </tr>\n",
       "    <tr>\n",
       "      <th>6</th>\n",
       "      <td>0</td>\n",
       "      <td>1</td>\n",
       "      <td>1</td>\n",
       "      <td>0</td>\n",
       "      <td>0</td>\n",
       "      <td>0</td>\n",
       "      <td>1</td>\n",
       "    </tr>\n",
       "    <tr>\n",
       "      <th>7</th>\n",
       "      <td>0</td>\n",
       "      <td>0</td>\n",
       "      <td>0</td>\n",
       "      <td>1</td>\n",
       "      <td>1</td>\n",
       "      <td>1</td>\n",
       "      <td>0</td>\n",
       "    </tr>\n",
       "  </tbody>\n",
       "</table>\n",
       "</div>"
      ],
      "text/plain": [
       "   1  2  3  4  5  6  7\n",
       "1  0  0  1  1  0  0  0\n",
       "2  0  0  1  0  0  1  0\n",
       "3  1  1  0  1  0  1  0\n",
       "4  1  0  1  0  1  0  1\n",
       "5  0  0  0  1  0  0  1\n",
       "6  0  1  1  0  0  0  1\n",
       "7  0  0  0  1  1  1  0"
      ]
     },
     "execution_count": 2,
     "metadata": {},
     "output_type": "execute_result"
    }
   ],
   "source": [
    "import pandas as pd\n",
    "\n",
    "\n",
    "data = pd.read_excel(sheet_name + '.xlsx',index_col=0)\n",
    "\n",
    "data"
   ]
  },
  {
   "cell_type": "code",
   "execution_count": 3,
   "metadata": {},
   "outputs": [
    {
     "name": "stdout",
     "output_type": "stream",
     "text": [
      "[[0 0 1 1 0 0 0]\n",
      " [0 0 1 0 0 1 0]\n",
      " [1 1 0 1 0 1 0]\n",
      " [1 0 1 0 1 0 1]\n",
      " [0 0 0 1 0 0 1]\n",
      " [0 1 1 0 0 0 1]\n",
      " [0 0 0 1 1 1 0]]\n"
     ]
    }
   ],
   "source": [
    "import numpy as np\n",
    "\n",
    "graph_data = data.values\n",
    "\n",
    "print(graph_data)"
   ]
  },
  {
   "cell_type": "code",
   "execution_count": 4,
   "metadata": {},
   "outputs": [
    {
     "name": "stdout",
     "output_type": "stream",
     "text": [
      "True\n"
     ]
    }
   ],
   "source": [
    "import networkx as nx\n",
    "\n",
    "g = nx.from_numpy_array(graph_data)\n",
    "\n",
    "# 若想打印图需安装 matplotlib \n",
    "# conda install matplotlib\n",
    "# nx.draw(g, with_labels=True)\n",
    "\n",
    "print(nx.is_connected(g))\n",
    "\n"
   ]
  },
  {
   "cell_type": "code",
   "execution_count": 5,
   "metadata": {},
   "outputs": [
    {
     "name": "stdout",
     "output_type": "stream",
     "text": [
      "顶数:7\n",
      "边数:10\n",
      "第1阶驻点对数为: 0\n",
      "第2阶驻点对数为: 5\n",
      "第3阶驻点对数为: 16\n",
      "第1阶Cheeger数为1.0\n",
      "第2阶Cheeger数为0.7619047619047619\n",
      "第3阶Cheeger数为0.5428571428571428\n",
      "2阶稳定因子为:0.9206349206349206\n",
      "3阶稳定因子为:0.8828571428571428\n",
      "n=3阶稳定因子为:0.8828571428571428\n"
     ]
    }
   ],
   "source": [
    "from itertools import combinations\n",
    "import math\n",
    "\n",
    "cheeger_n = 3\n",
    "\n",
    "node_num = g.number_of_nodes()\n",
    "nodes = list(range(node_num))\n",
    "\n",
    "\n",
    "cheeger_list = []\n",
    "\n",
    "stagnation_point = []\n",
    "\n",
    "# 对于每阶循环\n",
    "for i in range(1, cheeger_n+1):\n",
    "\n",
    "    connect_cnt = 0\n",
    "    # 对于每种摘除循环\n",
    "    for comb in combinations(nodes,i):\n",
    "\n",
    "        #print(comb)\n",
    "\n",
    "        g_sub = g.copy()\n",
    "        g_sub.remove_nodes_from(comb)\n",
    "\n",
    "        if nx.is_connected(g_sub):\n",
    "            connect_cnt += 1\n",
    "\n",
    "    cheeger_i = connect_cnt / len(list(combinations(nodes,i)))\n",
    "\n",
    "    stagnation_point.append(len(list(combinations(nodes,i)))-connect_cnt)\n",
    "    cheeger_list.append(cheeger_i)\n",
    "    \n",
    "\n",
    "\n",
    "\n",
    "\n",
    "print('顶数:'+str(g.number_of_nodes()))\n",
    "print('边数:'+str(g.number_of_edges()))\n",
    "\n",
    "for i in range(len(stagnation_point)):\n",
    "    print('第'+str(i+1)+'阶驻点对数为: '+str(stagnation_point[i]))\n",
    "\n",
    "# 计算稳定因子\n",
    "\n",
    "gamma = 0\n",
    "gamma_f = 0\n",
    "\n",
    "gamma_list = []\n",
    "\n",
    "for i in range(len(cheeger_list)):\n",
    "    print('第'+str(i+1)+'阶Cheeger数为'+str(cheeger_list[i]))\n",
    "    gamma += cheeger_list[i] / math.factorial(i+1)\n",
    "    gamma_list.append(gamma)\n",
    "    gamma_f += 1/math.factorial(i+1)\n",
    "\n",
    "\n",
    "gamma_n = gamma / gamma_f\n",
    "gamma_2 = gamma_list[1] / 3.0 * 2\n",
    "gamma_3 = gamma_list[2] * 0.6\n",
    "\n",
    "print('2阶稳定因子为:'+str(gamma_2))\n",
    "print('3阶稳定因子为:'+str(gamma_3))\n",
    "print('n='+str(cheeger_n)+'阶稳定因子为:'+str(gamma_n))\n",
    "\n",
    "\n",
    "    \n"
   ]
  },
  {
   "cell_type": "markdown",
   "metadata": {},
   "source": [
    "上面那一段代码理应可以再封装一下方便读取文件列表速算，但我现在懒得写"
   ]
  }
 ],
 "metadata": {
  "kernelspec": {
   "display_name": "Python 3.10.4 ('souls_research')",
   "language": "python",
   "name": "python3"
  },
  "language_info": {
   "codemirror_mode": {
    "name": "ipython",
    "version": 3
   },
   "file_extension": ".py",
   "mimetype": "text/x-python",
   "name": "python",
   "nbconvert_exporter": "python",
   "pygments_lexer": "ipython3",
   "version": "3.10.4"
  },
  "orig_nbformat": 4,
  "vscode": {
   "interpreter": {
    "hash": "d746a208579558d0fceb9dd67ba837b701a9cb7d299b86a804d7ec876591faa9"
   }
  }
 },
 "nbformat": 4,
 "nbformat_minor": 2
}
